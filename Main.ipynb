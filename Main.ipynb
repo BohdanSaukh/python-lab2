{
 "cells": [
  {
   "cell_type": "code",
   "execution_count": 4,
   "id": "c618c35e-0e27-4fcf-acce-7a071e650940",
   "metadata": {},
   "outputs": [
    {
     "name": "stdout",
     "output_type": "stream",
     "text": [
      "Added task 'Design database' to project 'Project name'\n",
      "Added task 'Implement API' to project 'Project name'\n",
      "Team Lead Vovchyk assigned 'Design database' to Oleg\n",
      "Team Lead Vovchyk assigned 'Implement API' to Bogdan\n",
      "ID: 1, Name: Oleg\n",
      "Position: Developer, Salary: 2500\n",
      "Tasks:\n",
      "Task: Design database, Deadline: 2025-11-01\n",
      "ID: 3, Name: Vovchyk\n",
      "Position: Team Lead, Salary: 4000\n",
      "No tasks yet.\n",
      "Department: IT Department, Projects: 1\n",
      "\n",
      "--- Project Manager Info ---\n",
      "ID: 4, Name: Project name\n",
      "Position: PM, Salary: 5000\n",
      "No tasks yet.\n",
      "Department: IT Department, Projects: 0\n",
      "Managing project 'Project name' (status: Ongoing)\n",
      "Total created persons: 4\n"
     ]
    }
   ],
   "source": [
    "from Person import Person\n",
    "from Employee import Employee\n",
    "from Manager import Manager\n",
    "from Project import Project\n",
    "from Task import Task\n",
    "from ProjectManager import ProjectManager\n",
    "\n",
    "task1 = Task(\"Design database\", \"2025-11-01\")\n",
    "task2 = Task(\"Implement API\", \"2025-11-15\")\n",
    "\n",
    "project = Project(101, \"Project name\", \"2025-10-10\", \"2026-02-01\", \"Active\")\n",
    "project.add_task(task1)\n",
    "project.add_task(task2)\n",
    "\n",
    "emp1 = Employee(1, \"Oleg\", \"Developer\", 2500)\n",
    "emp2 = Employee(2, \"Bogdan\", \"Tester\", 2200)\n",
    "\n",
    "mgr = Manager(3, \"Vovchyk\", \"Team Lead\", 4000, \"IT Department\")\n",
    "mgr.assign_task(emp1, task1)\n",
    "mgr.assign_task(emp2, task2)\n",
    "mgr.projects.append(project)\n",
    "\n",
    "pm = ProjectManager(4, \"Danylo\", \"PM\", 5000, \"IT Department\", 201, \"Project name\", \"2025-09-01\", \"2026-03-01\", \"Ongoing\")\n",
    "\n",
    "for person in [emp1, mgr, pm]:\n",
    "    person.show_info()\n",
    "\n",
    "Person.show_count()"
   ]
  },
  {
   "cell_type": "code",
   "execution_count": null,
   "id": "d1b2a2c0-2853-47fc-8e57-f771487e2d68",
   "metadata": {},
   "outputs": [],
   "source": []
  }
 ],
 "metadata": {
  "kernelspec": {
   "display_name": "Python [conda env:base] *",
   "language": "python",
   "name": "conda-base-py"
  },
  "language_info": {
   "codemirror_mode": {
    "name": "ipython",
    "version": 3
   },
   "file_extension": ".py",
   "mimetype": "text/x-python",
   "name": "python",
   "nbconvert_exporter": "python",
   "pygments_lexer": "ipython3",
   "version": "3.13.5"
  }
 },
 "nbformat": 4,
 "nbformat_minor": 5
}
